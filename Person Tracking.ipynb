{
 "cells": [
  {
   "cell_type": "code",
   "execution_count": null,
   "metadata": {},
   "outputs": [],
   "source": [
    "import cv2\n",
    "from cv2 import VideoCapture\n",
    "from cv2 import waitKey\n",
    "\n",
    "import numpy as np\n",
    "\n",
    "import json \n"
   ]
  },
  {
   "cell_type": "code",
   "execution_count": null,
   "metadata": {},
   "outputs": [],
   "source": [
    "import cv2\n",
    "from cv2 import VideoCapture\n",
    "from cv2 import waitKey\n",
    "\n",
    "import numpy as np\n",
    "\n",
    "import json \n"
   ]
  },
  {
   "cell_type": "code",
   "execution_count": null,
   "metadata": {},
   "outputs": [],
   "source": [
    "\n",
    "protopath = \"deploy.prototxt\"\n",
    "modelpath = \"MobileNetSSD_deploy.caffemodel\"\n",
    "detector = cv2.dnn.readNetFromCaffe(prototxt=protopath, caffeModel=modelpath)\n",
    "\n",
    "\n",
    "CLASSES = [\"background\", \"aeroplane\", \"bicycle\", \"bird\", \"boat\",\n",
    "           \"bottle\", \"bus\", \"car\", \"cat\", \"chair\", \"cow\", \"diningtable\",\n",
    "           \"dog\", \"horse\", \"motorbike\", \"person\", \"pottedplant\", \"sheep\",\n",
    "           \"sofa\", \"train\", \"tvmonitor\"]\n",
    "cap=cv2.VideoCapture(\"sample3.mp4\")\n",
    "tracker= EuclideanDistTracker()\n",
    "\n",
    "#object_detector= cv2.createBackgroundSubtractorMOG2(history=100,varThreshold=40)\n",
    "while True:\n",
    "    ret, frame1 = cap.read()\n",
    "    ret, frame2 = cap.read()\n",
    "    \n",
    "    height,width,_=frame1.shape\n",
    "    \n",
    "    \n",
    "    \n",
    "    #Extract region of interest\n",
    "    roi=frame1[150:500,200:1050]\n",
    "    \n",
    "    # Object detection\n",
    "    mask=object_detector.apply(roi)\n",
    "    diff = cv2.absdiff(frame1, frame2)\n",
    "    gray = cv2.cvtColor(diff, cv2.COLOR_BGR2GRAY)\n",
    "    blur = cv2.GaussianBlur(gray, (5,5), 0)\n",
    "    _, thresh = cv2.threshold(blur, 20, 255, cv2.THRESH_BINARY)\n",
    "    dilated = cv2.dilate(thresh, None, iterations=3)\n",
    "    contours, _ = cv2.findContours(dilated, cv2.RETR_TREE, cv2.CHAIN_APPROX_SIMPLE)\n",
    "    \n",
    "    detector.setInput(roi)\n",
    "            person_detections = detector.forward()\n",
    "            rects = []\n",
    "            for i in np.arange(0, person_detections.shape[2]):\n",
    "                confidence = person_detections[0, 0, i, 2]\n",
    "                if confidence > 0.5:\n",
    "                    idx = int(person_detections[0, 0, i, 1])\n",
    "\n",
    "                    if CLASSES[idx] != \"person\":\n",
    "                        continue\n",
    "\n",
    "                    person_box = person_detections[0, 0, i, 3:7] * np.array([W, H, W, H])\n",
    "                    (x, y, w, h) = person_box.astype(\"int\")\n",
    "                    rects.append([x,y,w,h])\n",
    "        \n",
    "    file=[]\n",
    "    images=[]\n",
    "    boxes_ids = tracker.update(detections)\n",
    "    for box_id in boxes_ids:\n",
    "        x, y, w, h, id = box_id\n",
    "        file.append({\"id\":id, \"time\":(x,y)})\n",
    "        cv2.putText(roi, str(id), (x, y - 15), cv2.FONT_HERSHEY_PLAIN, 2, (255, 0, 0), 2)\n",
    "        cv2.rectangle(roi, (x, y), (x + w, y + h), (0, 255, 0), 3)\n",
    "\n",
    "    images.append=cv2.imwrite(\"{id}.jpg\" % count, cv2.rectangle(roi, (x, y), (x + w, y + h))\n",
    "    \n",
    "    cv2.imshow(\"Frame\",frame1)\n",
    "    frame1==frame2\n",
    "    ret, frame2 = cap.read()\n",
    "    cv2.imshow(\"roi\",roi)\n",
    "    #cv2.imshow(\"Mask\",mask)\n",
    "\n",
    "    key=cv2.waitKey(90)\n",
    "    if key==27:\n",
    "        break\n",
    "    \n",
    "cap.release()\n",
    "cv2.destroyAllWindows()"
   ]
  },
  {
   "cell_type": "code",
   "execution_count": null,
   "metadata": {},
   "outputs": [],
   "source": [
    "for i in file:\n",
    "    json_file=json.dumps(i, indent=100)"
   ]
  },
  {
   "cell_type": "code",
   "execution_count": null,
   "metadata": {},
   "outputs": [],
   "source": []
  }
 ],
 "metadata": {
  "kernelspec": {
   "display_name": "Python 3",
   "language": "python",
   "name": "python3"
  },
  "language_info": {
   "codemirror_mode": {
    "name": "ipython",
    "version": 3
   },
   "file_extension": ".py",
   "mimetype": "text/x-python",
   "name": "python",
   "nbconvert_exporter": "python",
   "pygments_lexer": "ipython3",
   "version": "3.8.5"
  }
 },
 "nbformat": 4,
 "nbformat_minor": 4
}
